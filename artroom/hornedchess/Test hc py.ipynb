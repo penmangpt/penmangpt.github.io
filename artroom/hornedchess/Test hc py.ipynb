{
 "cells": [
  {
   "cell_type": "code",
   "execution_count": 1,
   "id": "ec3f3e1b",
   "metadata": {},
   "outputs": [],
   "source": [
    "import hornedchess_1_0 as hc"
   ]
  },
  {
   "cell_type": "code",
   "execution_count": 2,
   "id": "da15d034",
   "metadata": {},
   "outputs": [],
   "source": [
    "hc.N=10\n",
    "hc.nextMoveDict = hc.genNnextMoveDict(hc.N)"
   ]
  },
  {
   "cell_type": "code",
   "execution_count": 3,
   "id": "9fbcac3a",
   "metadata": {},
   "outputs": [],
   "source": [
    "hc.newInitBoard()"
   ]
  },
  {
   "cell_type": "code",
   "execution_count": 4,
   "id": "d25de9a7",
   "metadata": {},
   "outputs": [
    {
     "name": "stdout",
     "output_type": "stream",
     "text": [
      "['', 'cow', '', '', '', '', '', '', '', 'farmer', 'farmer']\n"
     ]
    }
   ],
   "source": [
    "hc.cowMoveBestMove()"
   ]
  },
  {
   "cell_type": "code",
   "execution_count": 5,
   "id": "c5e5696e",
   "metadata": {},
   "outputs": [
    {
     "name": "stdout",
     "output_type": "stream",
     "text": [
      "['', 'cow', '', '', '', '', '', '', 'farmer', 'farmer', '']\n"
     ]
    }
   ],
   "source": [
    "hc.farmerMoveBestMove()"
   ]
  },
  {
   "cell_type": "code",
   "execution_count": 6,
   "id": "caca60c4",
   "metadata": {},
   "outputs": [
    {
     "name": "stdout",
     "output_type": "stream",
     "text": [
      "['', '', 'cow', '', '', '', '', '', 'farmer', 'farmer', '']\n"
     ]
    }
   ],
   "source": [
    "hc.cowCustomMove(1,2)"
   ]
  },
  {
   "cell_type": "code",
   "execution_count": 7,
   "id": "6c7d0922",
   "metadata": {},
   "outputs": [
    {
     "name": "stdout",
     "output_type": "stream",
     "text": [
      "0\n",
      "|  \\\n",
      "1 -- \u001b[1mc\u001b[0m\n",
      "|  / \\\n",
      "3 -- 4\n",
      "|  / \\\n",
      "5 -- 6\n",
      "|  / \\\n",
      "7 -- \u001b[1mf\u001b[0m\n",
      "|  / \\\n",
      "\u001b[1mf\u001b[0m -- 10\n",
      "==============================\n"
     ]
    }
   ],
   "source": [
    "hc.struct2img([hc.current_chessboard, \"\"])"
   ]
  },
  {
   "cell_type": "code",
   "execution_count": 8,
   "id": "e2809cfb",
   "metadata": {},
   "outputs": [],
   "source": [
    "#hc.farmerCustomMove(8,7)"
   ]
  },
  {
   "cell_type": "code",
   "execution_count": 9,
   "id": "7568f508",
   "metadata": {},
   "outputs": [
    {
     "data": {
      "text/plain": [
       "{0: [1, 2],\n",
       " 1: [0, 2, 3],\n",
       " 2: [0, 1, 3, 4],\n",
       " 3: [1, 2, 4, 5],\n",
       " 4: [2, 3, 5, 6],\n",
       " 5: [3, 4, 6, 7],\n",
       " 6: [4, 5, 7, 8],\n",
       " 7: [5, 6, 8, 9],\n",
       " 8: [6, 7, 9, 10],\n",
       " 9: [7, 8, 10],\n",
       " 10: [8, 9]}"
      ]
     },
     "execution_count": 9,
     "metadata": {},
     "output_type": "execute_result"
    }
   ],
   "source": [
    "hc.nextMoveDict"
   ]
  },
  {
   "cell_type": "code",
   "execution_count": null,
   "id": "9fdfad5e",
   "metadata": {},
   "outputs": [],
   "source": []
  }
 ],
 "metadata": {
  "kernelspec": {
   "display_name": "Python 3 (ipykernel)",
   "language": "python",
   "name": "python3"
  },
  "language_info": {
   "codemirror_mode": {
    "name": "ipython",
    "version": 3
   },
   "file_extension": ".py",
   "mimetype": "text/x-python",
   "name": "python",
   "nbconvert_exporter": "python",
   "pygments_lexer": "ipython3",
   "version": "3.11.5"
  }
 },
 "nbformat": 4,
 "nbformat_minor": 5
}
