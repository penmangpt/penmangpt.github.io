{
 "cells": [
  {
   "cell_type": "code",
   "execution_count": 1,
   "id": "332cedd2",
   "metadata": {},
   "outputs": [],
   "source": [
    "import hornedchess_1_0 as hc"
   ]
  },
  {
   "cell_type": "code",
   "execution_count": 2,
   "id": "21d0d12b",
   "metadata": {},
   "outputs": [],
   "source": [
    "hc.N=6\n",
    "hc.nextMoveDict = hc.genNnextMoveDict(hc.N)"
   ]
  },
  {
   "cell_type": "code",
   "execution_count": 3,
   "id": "048e2658",
   "metadata": {},
   "outputs": [],
   "source": [
    "hc.newInitBoard()"
   ]
  },
  {
   "cell_type": "code",
   "execution_count": 4,
   "id": "d1f5518b",
   "metadata": {},
   "outputs": [
    {
     "name": "stdout",
     "output_type": "stream",
     "text": [
      "['', 'cow', '', '', '', 'farmer', 'farmer']\n"
     ]
    }
   ],
   "source": [
    "hc.cowMoveBestMove()"
   ]
  },
  {
   "cell_type": "code",
   "execution_count": 5,
   "id": "1b7389ba",
   "metadata": {},
   "outputs": [
    {
     "name": "stdout",
     "output_type": "stream",
     "text": [
      "['', 'cow', '', 'farmer', '', '', 'farmer']\n"
     ]
    }
   ],
   "source": [
    "hc.farmerMoveBestMove()"
   ]
  },
  {
   "cell_type": "code",
   "execution_count": 6,
   "id": "be388069",
   "metadata": {},
   "outputs": [
    {
     "name": "stdout",
     "output_type": "stream",
     "text": [
      "['', '', 'cow', 'farmer', '', '', 'farmer']\n"
     ]
    }
   ],
   "source": [
    "hc.cowCustomMove(1,2)"
   ]
  },
  {
   "cell_type": "code",
   "execution_count": 7,
   "id": "b5ec08c7",
   "metadata": {},
   "outputs": [
    {
     "name": "stdout",
     "output_type": "stream",
     "text": [
      "0\n",
      "|  \\\n",
      "1 -- \u001b[1mc\u001b[0m\n",
      "|  / \\\n",
      "\u001b[1mf\u001b[0m -- 4\n",
      "|  / \\\n",
      "5 -- \u001b[1mf\u001b[0m\n",
      "==============================\n"
     ]
    }
   ],
   "source": [
    "hc.struct2img([hc.current_chessboard, \"\"])"
   ]
  },
  {
   "cell_type": "code",
   "execution_count": 9,
   "id": "2bd55e58",
   "metadata": {},
   "outputs": [],
   "source": [
    "#hc.farmerCustomMove(8,7)"
   ]
  },
  {
   "cell_type": "code",
   "execution_count": 10,
   "id": "c761972b",
   "metadata": {},
   "outputs": [
    {
     "data": {
      "text/plain": [
       "{0: [1, 2],\n",
       " 1: [0, 2, 3],\n",
       " 2: [0, 1, 3, 4],\n",
       " 3: [1, 2, 4, 5],\n",
       " 4: [2, 3, 5, 6],\n",
       " 5: [3, 4, 6],\n",
       " 6: [4, 5]}"
      ]
     },
     "execution_count": 10,
     "metadata": {},
     "output_type": "execute_result"
    }
   ],
   "source": [
    "hc.nextMoveDict"
   ]
  },
  {
   "cell_type": "code",
   "execution_count": null,
   "id": "2fdb15aa",
   "metadata": {},
   "outputs": [],
   "source": []
  }
 ],
 "metadata": {
  "kernelspec": {
   "display_name": "Python 3 (ipykernel)",
   "language": "python",
   "name": "python3"
  },
  "language_info": {
   "codemirror_mode": {
    "name": "ipython",
    "version": 3
   },
   "file_extension": ".py",
   "mimetype": "text/x-python",
   "name": "python",
   "nbconvert_exporter": "python",
   "pygments_lexer": "ipython3",
   "version": "3.11.5"
  }
 },
 "nbformat": 4,
 "nbformat_minor": 5
}
