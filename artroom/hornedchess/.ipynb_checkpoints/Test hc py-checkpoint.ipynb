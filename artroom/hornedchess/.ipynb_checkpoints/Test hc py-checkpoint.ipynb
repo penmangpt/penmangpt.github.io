{
 "cells": [
  {
   "cell_type": "code",
   "execution_count": 9,
   "id": "62b4777f",
   "metadata": {},
   "outputs": [],
   "source": [
    "import hornedchess_1_0 as hc"
   ]
  },
  {
   "cell_type": "code",
   "execution_count": 10,
   "id": "cbdada59",
   "metadata": {},
   "outputs": [],
   "source": [
    "hc.N=16\n",
    "hc.nextMoveDict = hc.genNnextMoveDict(hc.N)"
   ]
  },
  {
   "cell_type": "code",
   "execution_count": 11,
   "id": "21559fc5",
   "metadata": {},
   "outputs": [],
   "source": [
    "hc.newInitBoard()"
   ]
  },
  {
   "cell_type": "code",
   "execution_count": 12,
   "id": "72e693b8",
   "metadata": {},
   "outputs": [
    {
     "name": "stdout",
     "output_type": "stream",
     "text": [
      "['', 'cow', '', '', '', '', '', '', '', '', '', '', '', '', '', 'farmer', 'farmer']\n"
     ]
    }
   ],
   "source": [
    "hc.cowMoveBestMove()"
   ]
  },
  {
   "cell_type": "code",
   "execution_count": 13,
   "id": "098de0b3",
   "metadata": {},
   "outputs": [
    {
     "name": "stdout",
     "output_type": "stream",
     "text": [
      "['', 'cow', '', '', '', '', '', '', '', '', '', '', '', '', 'farmer', 'farmer', '']\n"
     ]
    }
   ],
   "source": [
    "hc.farmerMoveBestMove()"
   ]
  },
  {
   "cell_type": "code",
   "execution_count": 14,
   "id": "a94edf63",
   "metadata": {},
   "outputs": [
    {
     "name": "stdout",
     "output_type": "stream",
     "text": [
      "['', '', 'cow', '', '', '', '', '', '', '', '', '', '', '', 'farmer', 'farmer', '']\n"
     ]
    }
   ],
   "source": [
    "hc.cowCustomMove(1,2)"
   ]
  },
  {
   "cell_type": "code",
   "execution_count": 15,
   "id": "da02b659",
   "metadata": {},
   "outputs": [
    {
     "name": "stdout",
     "output_type": "stream",
     "text": [
      "0\n",
      "|  \\\n",
      "1 -- \u001b[1mc\u001b[0m\n",
      "|  / \\\n",
      "3 -- 4\n",
      "|  / \\\n",
      "5 -- 6\n",
      "|  / \\\n",
      "7 -- 8\n",
      "|  / \\\n",
      "9 -- 10\n",
      "|  / \\\n",
      "11 -- 12\n",
      "|  / \\\n",
      "13 -- \u001b[1mf\u001b[0m\n",
      "|  / \\\n",
      "\u001b[1mf\u001b[0m -- 16\n",
      "==============================\n"
     ]
    }
   ],
   "source": [
    "hc.struct2img([hc.current_chessboard, \"\"])"
   ]
  },
  {
   "cell_type": "code",
   "execution_count": 16,
   "id": "49a6c115",
   "metadata": {},
   "outputs": [
    {
     "name": "stdout",
     "output_type": "stream",
     "text": [
      "['', '', 'cow', '', '', '', '', '', '', '', '', '', '', '', 'farmer', 'farmer', '']\n"
     ]
    }
   ],
   "source": [
    "hc.farmerCustomMove(8,7)"
   ]
  },
  {
   "cell_type": "code",
   "execution_count": null,
   "id": "d0f54b63",
   "metadata": {},
   "outputs": [],
   "source": []
  }
 ],
 "metadata": {
  "kernelspec": {
   "display_name": "Python 3 (ipykernel)",
   "language": "python",
   "name": "python3"
  },
  "language_info": {
   "codemirror_mode": {
    "name": "ipython",
    "version": 3
   },
   "file_extension": ".py",
   "mimetype": "text/x-python",
   "name": "python",
   "nbconvert_exporter": "python",
   "pygments_lexer": "ipython3",
   "version": "3.11.5"
  }
 },
 "nbformat": 4,
 "nbformat_minor": 5
}
