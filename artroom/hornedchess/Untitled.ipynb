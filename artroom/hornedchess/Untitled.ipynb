{
 "cells": [
  {
   "cell_type": "code",
   "execution_count": 1,
   "id": "6d0a9ecc",
   "metadata": {},
   "outputs": [],
   "source": [
    "import hornedchess_1_0 as hc"
   ]
  },
  {
   "cell_type": "code",
   "execution_count": 2,
   "id": "993cd220",
   "metadata": {},
   "outputs": [],
   "source": [
    "hc.newInitBoard()"
   ]
  },
  {
   "cell_type": "code",
   "execution_count": 3,
   "id": "2c436e83",
   "metadata": {},
   "outputs": [
    {
     "name": "stdout",
     "output_type": "stream",
     "text": [
      "['', 'cow', '', '', '', '', '', '', '', 'farmer', 'farmer']\n"
     ]
    }
   ],
   "source": [
    "hc.cowMoveBestMove()"
   ]
  },
  {
   "cell_type": "code",
   "execution_count": 4,
   "id": "bb374f73",
   "metadata": {},
   "outputs": [
    {
     "name": "stdout",
     "output_type": "stream",
     "text": [
      "['', 'cow', '', '', '', '', '', '', 'farmer', 'farmer', '']\n"
     ]
    }
   ],
   "source": [
    "hc.farmerMoveBestMove()"
   ]
  },
  {
   "cell_type": "code",
   "execution_count": 5,
   "id": "6c0cefc7",
   "metadata": {},
   "outputs": [
    {
     "name": "stdout",
     "output_type": "stream",
     "text": [
      "['', '', 'cow', '', '', '', '', '', 'farmer', 'farmer', '']\n"
     ]
    }
   ],
   "source": [
    "hc.cowCustomMove(1,2)"
   ]
  },
  {
   "cell_type": "code",
   "execution_count": 6,
   "id": "8d384979",
   "metadata": {},
   "outputs": [
    {
     "name": "stdout",
     "output_type": "stream",
     "text": [
      "0\n",
      "|  \\\n",
      "1 -- \u001b[1mc\u001b[0m\n",
      "|  / \\\n",
      "3 -- 4\n",
      "|  / \\\n",
      "5 -- 6\n",
      "|  / \\\n",
      "7 -- \u001b[1mf\u001b[0m\n",
      "|  / \\\n",
      "\u001b[1mf\u001b[0m -- 10\n",
      "==============================\n"
     ]
    }
   ],
   "source": [
    "hc.struct2img([hc.current_chessboard, \"\"])"
   ]
  },
  {
   "cell_type": "code",
   "execution_count": 7,
   "id": "8aba1311",
   "metadata": {},
   "outputs": [
    {
     "name": "stdout",
     "output_type": "stream",
     "text": [
      "['', '', 'cow', '', '', '', '', 'farmer', '', 'farmer', '']\n"
     ]
    }
   ],
   "source": [
    "hc.farmerCustomMove(8,7)"
   ]
  },
  {
   "cell_type": "code",
   "execution_count": null,
   "id": "fadbe00e",
   "metadata": {},
   "outputs": [],
   "source": []
  }
 ],
 "metadata": {
  "kernelspec": {
   "display_name": "Python 3 (ipykernel)",
   "language": "python",
   "name": "python3"
  },
  "language_info": {
   "codemirror_mode": {
    "name": "ipython",
    "version": 3
   },
   "file_extension": ".py",
   "mimetype": "text/x-python",
   "name": "python",
   "nbconvert_exporter": "python",
   "pygments_lexer": "ipython3",
   "version": "3.11.5"
  }
 },
 "nbformat": 4,
 "nbformat_minor": 5
}
