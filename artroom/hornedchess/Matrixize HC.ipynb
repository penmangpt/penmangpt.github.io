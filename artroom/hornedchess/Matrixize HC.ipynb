{
 "cells": [
  {
   "cell_type": "code",
   "execution_count": 5,
   "id": "db17d3cd",
   "metadata": {},
   "outputs": [],
   "source": [
    "import numpy as np\n",
    "import hornedchess_1_0 as hc"
   ]
  },
  {
   "cell_type": "code",
   "execution_count": 6,
   "id": "f2a28957",
   "metadata": {},
   "outputs": [
    {
     "data": {
      "text/plain": [
       "[0, -1, -1, -1, -1, 1, 1]"
      ]
     },
     "execution_count": 6,
     "metadata": {},
     "output_type": "execute_result"
    }
   ],
   "source": [
    "chessboard = ['cow', '', '', '', '', 'farmer', 'farmer']\n",
    "chessboardvector = hc.cfToNum(chessboard)\n",
    "chessboardvector"
   ]
  },
  {
   "cell_type": "code",
   "execution_count": 26,
   "id": "37942c33",
   "metadata": {},
   "outputs": [],
   "source": [
    "actionfocus = [0,0]"
   ]
  },
  {
   "cell_type": "code",
   "execution_count": 27,
   "id": "05743be6",
   "metadata": {},
   "outputs": [],
   "source": [
    "canmovevector = np.array(\n",
    "[\n",
    "    [1,2,-1,-1],\n",
    "    [0,2,3,-1],\n",
    "    [0,1,3,4],\n",
    "    [1,2,4,5],\n",
    "    [2,3,5,6],\n",
    "    [3,4,6,-1],\n",
    "    [4,5,0,-1]\n",
    "]\n",
    ")"
   ]
  },
  {
   "cell_type": "code",
   "execution_count": 28,
   "id": "1f731912",
   "metadata": {},
   "outputs": [],
   "source": [
    "actionvector = np.eye(4)[actionfocus[1]]"
   ]
  },
  {
   "cell_type": "code",
   "execution_count": 29,
   "id": "cea44c0a",
   "metadata": {},
   "outputs": [],
   "source": [
    "actionelement = int(np.matmul(canmovevector,actionvector)[ actionfocus[0] ] )"
   ]
  },
  {
   "cell_type": "code",
   "execution_count": 30,
   "id": "c0ab9913",
   "metadata": {},
   "outputs": [
    {
     "data": {
      "text/plain": [
       "[-1, -1, 0, -1, -1, 1, 1]"
      ]
     },
     "execution_count": 30,
     "metadata": {},
     "output_type": "execute_result"
    }
   ],
   "source": [
    "hc.swapPositions(chessboardvector, actionfocus[0], actionelement)"
   ]
  },
  {
   "cell_type": "code",
   "execution_count": null,
   "id": "9ecdf08d",
   "metadata": {},
   "outputs": [],
   "source": []
  },
  {
   "cell_type": "code",
   "execution_count": null,
   "id": "91d1fabd",
   "metadata": {},
   "outputs": [],
   "source": []
  }
 ],
 "metadata": {
  "kernelspec": {
   "display_name": "Python 3 (ipykernel)",
   "language": "python",
   "name": "python3"
  },
  "language_info": {
   "codemirror_mode": {
    "name": "ipython",
    "version": 3
   },
   "file_extension": ".py",
   "mimetype": "text/x-python",
   "name": "python",
   "nbconvert_exporter": "python",
   "pygments_lexer": "ipython3",
   "version": "3.11.5"
  }
 },
 "nbformat": 4,
 "nbformat_minor": 5
}
