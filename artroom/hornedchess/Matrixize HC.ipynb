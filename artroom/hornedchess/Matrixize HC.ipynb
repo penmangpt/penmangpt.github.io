{
 "cells": [
  {
   "cell_type": "code",
   "execution_count": 1,
   "id": "7cd0ef94",
   "metadata": {},
   "outputs": [],
   "source": [
    "import numpy as np\n",
    "import hornedchess_1_0 as hc"
   ]
  },
  {
   "cell_type": "code",
   "execution_count": 2,
   "id": "0e514ea1",
   "metadata": {},
   "outputs": [
    {
     "data": {
      "text/plain": [
       "[0, -1, -1, -1, -1, -1, -1, -1, -1, 1, 1]"
      ]
     },
     "execution_count": 2,
     "metadata": {},
     "output_type": "execute_result"
    }
   ],
   "source": [
    "hc.N=10\n",
    "hc.nextMoveDict = hc.genNnextMoveDict(hc.N)\n",
    "hc.newInitBoard()\n",
    "chessboard = hc.current_chessboard\n",
    "\n",
    "chessboardvector = hc.cfToNum(chessboard)\n",
    "chessboardvector"
   ]
  },
  {
   "cell_type": "code",
   "execution_count": 3,
   "id": "e0a8b091",
   "metadata": {},
   "outputs": [],
   "source": [
    "actionfocus = [9,0] #chess[?] -> canmove[?]"
   ]
  },
  {
   "cell_type": "code",
   "execution_count": 4,
   "id": "c74cd4c5",
   "metadata": {},
   "outputs": [],
   "source": [
    "canmovevector = np.array( hc.nextMoveMatrix() )"
   ]
  },
  {
   "cell_type": "code",
   "execution_count": 5,
   "id": "fab9aa76",
   "metadata": {},
   "outputs": [],
   "source": [
    "actionvector = np.eye(4)[actionfocus[1]]"
   ]
  },
  {
   "cell_type": "code",
   "execution_count": 6,
   "id": "635282d1",
   "metadata": {},
   "outputs": [],
   "source": [
    "actionelement = int(np.matmul(canmovevector,actionvector)[ actionfocus[0] ] )"
   ]
  },
  {
   "cell_type": "code",
   "execution_count": null,
   "id": "2cc6aab5",
   "metadata": {},
   "outputs": [],
   "source": []
  },
  {
   "cell_type": "code",
   "execution_count": 7,
   "id": "7ec1da38",
   "metadata": {},
   "outputs": [
    {
     "data": {
      "text/plain": [
       "['cow', '', '', '', '', '', '', 'farmer', '', '', 'farmer']"
      ]
     },
     "execution_count": 7,
     "metadata": {},
     "output_type": "execute_result"
    }
   ],
   "source": [
    "hc.current_chessboard = hc.numToCF( hc.swapPositions(chessboardvector, actionfocus[0], actionelement) )\n",
    "hc.current_chessboard"
   ]
  },
  {
   "cell_type": "code",
   "execution_count": 8,
   "id": "4a0682cb",
   "metadata": {},
   "outputs": [
    {
     "name": "stdout",
     "output_type": "stream",
     "text": [
      "\u001b[1mc\u001b[0m\n",
      "|  \\\n",
      "1 -- 2\n",
      "|  / \\\n",
      "3 -- 4\n",
      "|  / \\\n",
      "5 -- 6\n",
      "|  / \\\n",
      "\u001b[1mf\u001b[0m -- 8\n",
      "|  / \\\n",
      "9 -- \u001b[1mf\u001b[0m\n",
      "==============================\n"
     ]
    }
   ],
   "source": [
    "hc.struct2img(hc.current_chessboard)"
   ]
  },
  {
   "cell_type": "code",
   "execution_count": null,
   "id": "b4eaa269",
   "metadata": {},
   "outputs": [],
   "source": []
  },
  {
   "cell_type": "code",
   "execution_count": null,
   "id": "da8c0172",
   "metadata": {},
   "outputs": [],
   "source": []
  },
  {
   "cell_type": "code",
   "execution_count": null,
   "id": "0734d0ee",
   "metadata": {},
   "outputs": [],
   "source": []
  },
  {
   "cell_type": "code",
   "execution_count": null,
   "id": "17e43bdb",
   "metadata": {},
   "outputs": [],
   "source": []
  }
 ],
 "metadata": {
  "kernelspec": {
   "display_name": "Python 3 (ipykernel)",
   "language": "python",
   "name": "python3"
  },
  "language_info": {
   "codemirror_mode": {
    "name": "ipython",
    "version": 3
   },
   "file_extension": ".py",
   "mimetype": "text/x-python",
   "name": "python",
   "nbconvert_exporter": "python",
   "pygments_lexer": "ipython3",
   "version": "3.11.5"
  }
 },
 "nbformat": 4,
 "nbformat_minor": 5
}
