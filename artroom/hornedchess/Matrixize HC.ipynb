{
 "cells": [
  {
   "cell_type": "code",
   "execution_count": 1,
   "id": "a0790b34",
   "metadata": {},
   "outputs": [],
   "source": [
    "import numpy as np\n",
    "import hornedchess_1_0 as hc"
   ]
  },
  {
   "cell_type": "code",
   "execution_count": 2,
   "id": "721eba4f",
   "metadata": {},
   "outputs": [
    {
     "data": {
      "text/plain": [
       "[0, -1, -1, -1, -1, 1, 1]"
      ]
     },
     "execution_count": 2,
     "metadata": {},
     "output_type": "execute_result"
    }
   ],
   "source": [
    "chessboard = ['cow', '', '', '', '', 'farmer', 'farmer']\n",
    "chessboardvector = hc.cfToNum(chessboard)\n",
    "chessboardvector"
   ]
  },
  {
   "cell_type": "code",
   "execution_count": 3,
   "id": "2e3a423b",
   "metadata": {},
   "outputs": [],
   "source": [
    "actionfocus = [0,1] #"
   ]
  },
  {
   "cell_type": "code",
   "execution_count": 4,
   "id": "fa94b685",
   "metadata": {},
   "outputs": [],
   "source": [
    "canmovevector = np.array(\n",
    "[\n",
    "    [1,2,-1,-1],\n",
    "    [0,2,3,-1],\n",
    "    [0,1,3,4],\n",
    "    [1,2,4,5],\n",
    "    [2,3,5,6],\n",
    "    [3,4,6,-1],\n",
    "    [4,5,0,-1]\n",
    "]\n",
    ")"
   ]
  },
  {
   "cell_type": "code",
   "execution_count": 5,
   "id": "19f6f556",
   "metadata": {},
   "outputs": [],
   "source": [
    "actionvector = np.eye(4)[actionfocus[1]]"
   ]
  },
  {
   "cell_type": "code",
   "execution_count": 6,
   "id": "dbec88d3",
   "metadata": {},
   "outputs": [],
   "source": [
    "actionelement = int(np.matmul(canmovevector,actionvector)[ actionfocus[0] ] )"
   ]
  },
  {
   "cell_type": "code",
   "execution_count": 7,
   "id": "4a6d6e93",
   "metadata": {},
   "outputs": [
    {
     "data": {
      "text/plain": [
       "[-1, -1, 0, -1, -1, 1, 1]"
      ]
     },
     "execution_count": 7,
     "metadata": {},
     "output_type": "execute_result"
    }
   ],
   "source": [
    "hc.swapPositions(chessboardvector, actionfocus[0], actionelement)"
   ]
  },
  {
   "cell_type": "code",
   "execution_count": null,
   "id": "20141d4c",
   "metadata": {},
   "outputs": [],
   "source": []
  },
  {
   "cell_type": "code",
   "execution_count": null,
   "id": "95e747d5",
   "metadata": {},
   "outputs": [],
   "source": []
  }
 ],
 "metadata": {
  "kernelspec": {
   "display_name": "Python 3 (ipykernel)",
   "language": "python",
   "name": "python3"
  },
  "language_info": {
   "codemirror_mode": {
    "name": "ipython",
    "version": 3
   },
   "file_extension": ".py",
   "mimetype": "text/x-python",
   "name": "python",
   "nbconvert_exporter": "python",
   "pygments_lexer": "ipython3",
   "version": "3.11.5"
  }
 },
 "nbformat": 4,
 "nbformat_minor": 5
}
